{
 "cells": [
  {
   "cell_type": "markdown",
   "metadata": {},
   "source": [
    "# Getting started with Parcels: general structure"
   ]
  },
  {
   "cell_type": "markdown",
   "metadata": {},
   "source": [
    "There are many different ways in which to use Parcels for research. The flexibility of the parcels code enables this wide range of applicability and allows you to build complex simulations. But this also means that you have to know what you're doing. SO please take some time to learn how to use Parcels, starting with this tutorial.\n",
    "\n",
    "For a smooth programming experience with Parcels, it is recommended you make a general structure in setting up your simulations. Here we give you an overview of the main components of a Parcels simulation. These components provide you with the basic requirements for your first simulation, while the structure allows you to keep track of more complex simulations later on. A good practice is to separate the different parts of your code into sections:\n",
    "1. [**FieldSet**](#1.-FieldSet). Load and set up the (velocity) fields that your particles need to access.\n",
    "2. [**ParticleSet**](#2.-ParticleSet). Define the type of particles you want to release, what `Variables` they have and what their initial conditions are.\n",
    "3. [**Execute kernels**](#3.-Kernel-execution). Define and compile the kernels that encode what your particles need to do each timestep and execute them.\n",
    "4. [**Output**](#4.-Output). Write and store the output to a NetCDF file. Ideas on what you can do with the output in terms of analysis is documented [**here**](https://nbviewer.jupyter.org/github/OceanParcels/parcels/blob/master/parcels/examples/tutorial_output.ipynb)."
   ]
  },
  {
   "cell_type": "markdown",
   "metadata": {},
   "source": [
    "These four components are used in the python cell below. Further on in this notebook, we'll focus on each component separately."
   ]
  },
  {
   "cell_type": "code",
   "execution_count": 1,
   "metadata": {},
   "outputs": [
    {
     "name": "stderr",
     "output_type": "stream",
     "text": [
      "WARNING: Casting lon data to np.float32\n",
      "WARNING: Casting lat data to np.float32\n",
      "WARNING: Casting depth data to np.float32\n",
      "INFO: Compiled JITParticleAdvectionRK4 ==> C:\\Users\\GEBRUI~1\\AppData\\Local\\Temp\\parcels-tmp\\35821cfe0ca062441b33915339ad4dac_0.dll\n",
      "WARNING: Casting field data to np.float32\n"
     ]
    }
   ],
   "source": [
    "from parcels import FieldSet, ParticleSet, JITParticle, AdvectionRK4\n",
    "\n",
    "# 1. Setting up the velocity fields in a FieldSet object\n",
    "\n",
    "fname = 'GlobCurrent_example_data/*.nc'\n",
    "filenames = {'U': fname, 'V': fname}\n",
    "variables = {'U': 'eastward_eulerian_current_velocity', 'V': 'northward_eulerian_current_velocity'}\n",
    "dimensions = {'U': {'lat': 'lat', 'lon': 'lon', 'time': 'time'},\n",
    "              'V': {'lat': 'lat', 'lon': 'lon', 'time': 'time'}}\n",
    "fieldset = FieldSet.from_netcdf(filenames, variables, dimensions)\n",
    "\n",
    "\n",
    "# 2. Defining the particles type and initial conditions in a ParticleSet object\n",
    "\n",
    "pset = ParticleSet(fieldset=fieldset,   # the fields on which the particles are advected\n",
    "                   pclass=JITParticle,  # the type of particles (JITParticle or ScipyParticle)\n",
    "                   lon=28,              # release longitudes \n",
    "                   lat=-33)             # release latitudes\n",
    "\n",
    "\n",
    "# 3. Executing an advection kernel on the given fieldset\n",
    "\n",
    "output_file = pset.ParticleFile(name=\"GCParticles.nc\", outputdt=3600) # the file name and the time step of the outputs\n",
    "pset.execute(AdvectionRK4,                 # the kernel (which defines how particles move)\n",
    "             runtime=86400*6,              # the total length of the run\n",
    "             dt=300,                       # the timestep of the kernel\n",
    "             output_file=output_file)\n",
    "\n",
    "\n",
    "# 4. Exporting the simulation output to a netcdf file\n",
    "\n",
    "output_file.export()"
   ]
  },
  {
   "cell_type": "markdown",
   "metadata": {},
   "source": [
    "When you start making the parcels simulation more complex, it is a good idea to keep these different steps separate to keep a clear overview and find bugs more easily"
   ]
  },
  {
   "cell_type": "markdown",
   "metadata": {},
   "source": [
    "# 1. FieldSet"
   ]
  },
  {
   "cell_type": "markdown",
   "metadata": {},
   "source": [
    "Parcels provides a framework to simulate the movement of particles **within an existing flowfield environment**. To start a parcels simulation we must define this environment with the [**`FieldSet`** class](https://oceanparcels.org/gh-pages/html/#module-parcels.fieldset). The minimal requirements for this Fieldset are that it must contain the `'U'` and `'V'` fields: the 2D hydrodynamic data that will move the particles. "
   ]
  },
  {
   "cell_type": "markdown",
   "metadata": {},
   "source": [
    "The general method to use is [**`FieldSet.from_netcdf`**](https://oceanparcels.org/gh-pages/html/#parcels.fieldset.FieldSet.from_netcdf), which requires `filenames`, `variables` and `dimensions`. Each of these is a dictionary, and `variables` requires at least a `U` and `V`, but any other `variable` can be added too (e.g. vertical velocity, temperature, mixedlayerdepth, etc). Note also that `filenames` can contain wildcards. For example, the GlobCurrent data that can be downloaded using the `parcels_get_examples` script (see step 4 of the [installation guide](http://oceanparcels.org/#installing)) can be read with: "
   ]
  },
  {
   "cell_type": "code",
   "execution_count": 2,
   "metadata": {},
   "outputs": [],
   "source": [
    "fname = 'GlobCurrent_example_data/*.nc'\n",
    "filenames = {'U': fname, 'V': fname}\n",
    "variables = {'U': 'eastward_eulerian_current_velocity', 'V': 'northward_eulerian_current_velocity'}\n",
    "dimensions = {'U': {'lat': 'lat', 'lon': 'lon', 'time': 'time'}, # In the GlobCurrent data the dimensions are also called 'lon', 'lat' and 'time'\n",
    "              'V': {'lat': 'lat', 'lon': 'lon', 'time': 'time'}}\n",
    "fieldset = FieldSet.from_netcdf(filenames, variables, dimensions)"
   ]
  },
  {
   "cell_type": "markdown",
   "metadata": {},
   "source": [
    "#### For more advanced tutorials on creating `FieldSets`:\n",
    "\n",
    "* [Implement **periodic boundaries**](https://nbviewer.jupyter.org/github/OceanParcels/parcels/blob/master/parcels/examples/tutorial_periodic_boundaries.ipynb)\n",
    "* [How to **interpolate** field data for different fields](https://nbviewer.jupyter.org/github/OceanParcels/parcels/blob/master/parcels/examples/tutorial_interpolation.ipynb)\n",
    "* [**Converting units** in the field data](https://nbviewer.jupyter.org/github/OceanParcels/parcels/blob/master/parcels/examples/tutorial_unitconverters.ipynb)\n",
    "* [Working around incompatible **time coordinates**](https://nbviewer.jupyter.org/github/OceanParcels/parcels/blob/master/parcels/examples/tutorial_timestamps.ipynb)\n",
    "\n",
    "#### If you are working with field data on different grids:\n",
    "* [Grid **indexing** on different grids](https://nbviewer.jupyter.org/github/OceanParcels/parcels/blob/master/parcels/examples/documentation_indexing.ipynb)\n",
    "* [Load field data from **Curvilinear grids**](https://nbviewer.jupyter.org/github/OceanParcels/parcels/blob/master/parcels/examples/tutorial_nemo_curvilinear.ipynb)\n",
    "* [Load field data from **3D C-grids**](https://nbviewer.jupyter.org/github/OceanParcels/parcels/blob/master/parcels/examples/tutorial_nemo_3D.ipynb)\n",
    "\n",
    "#### If you want to combine different velocity fields:\n",
    "* [Add different velocity fields in a **SummedField**](https://nbviewer.jupyter.org/github/OceanParcels/parcels/blob/master/parcels/examples/tutorial_SummedFields.ipynb)\n",
    "* [Nest velocity fields of different regions or resolutions in a **NestedField**](https://nbviewer.jupyter.org/github/OceanParcels/parcels/blob/master/parcels/examples/tutorial_NestedFields.ipynb)"
   ]
  },
  {
   "cell_type": "markdown",
   "metadata": {},
   "source": [
    "# 2. ParticleSet"
   ]
  },
  {
   "cell_type": "markdown",
   "metadata": {},
   "source": [
    "Once you have set up the environment with the FieldSet object, you can start defining your particles in a [**`ParticleSet`** object](https://oceanparcels.org/gh-pages/html/#module-parcels.particleset). This object requires:\n",
    "1. The [**`FieldSet`**](https://oceanparcels.org/gh-pages/html/#module-parcels.fieldset) on which the particles live.\n",
    "2. The type of [**`Particle`**](https://oceanparcels.org/gh-pages/html/#module-parcels.particle), which contains the information each particle will store.\n",
    "3. The initial conditions for each [**`Variable`**](https://oceanparcels.org/gh-pages/html/#parcels.particle.Variable) defined in the `Particle`, most notably the release locations in `lon` and `lat`."
   ]
  },
  {
   "cell_type": "code",
   "execution_count": 3,
   "metadata": {},
   "outputs": [],
   "source": [
    "pset = ParticleSet(fieldset=fieldset,   # the fields on which the particles are advected\n",
    "                   pclass=JITParticle,  # the type of particles (JITParticle or ScipyParticle)\n",
    "                   lon=28,              # release longitude\n",
    "                   lat=-33)             # release latitude"
   ]
  },
  {
   "cell_type": "markdown",
   "metadata": {},
   "source": [
    "The different [**`Particle`**](https://oceanparcels.org/gh-pages/html/#module-parcels.particle) types available are the [**`JITParticle`**](https://oceanparcels.org/gh-pages/html/#parcels.particle.JITParticle) and the [**`ScipyParticle`**](https://oceanparcels.org/gh-pages/html/#parcels.particle.ScipyParticle), but it is very easy to create your own particle class which includes other [**`Variables`**](https://oceanparcels.org/gh-pages/html/#parcels.particle.Variable):"
   ]
  },
  {
   "cell_type": "code",
   "execution_count": 4,
   "metadata": {},
   "outputs": [],
   "source": [
    "from parcels import Variable\n",
    "\n",
    "class PressureParticle(JITParticle):         # Define a new particle class\n",
    "    p = Variable('p', initial=0)             # Variable 'p' with initial value 0."
   ]
  },
  {
   "cell_type": "markdown",
   "metadata": {},
   "source": [
    "#### For more advanced tutorials on how to setup your `ParticleSet`:\n",
    "* [**Releasing particles** at different times](https://nbviewer.jupyter.org/github/OceanParcels/parcels/blob/master/parcels/examples/tutorial_delaystart.ipynb)\n",
    "* [The difference between **JITParticles and ScipyParticles**](https://nbviewer.jupyter.org/github/OceanParcels/parcels/blob/master/parcels/examples/tutorial_jit_vs_scipy.ipynb)\n",
    "\n",
    "For more information on how to implement **`Particle` types** with specific behavior, see the [section on writing your own kernels](#For-more-advanced-tutorials-on-writing-custom-kernels-that-work-on-custom-particles:)"
   ]
  },
  {
   "cell_type": "markdown",
   "metadata": {},
   "source": [
    "# 3. Kernel execution"
   ]
  },
  {
   "cell_type": "markdown",
   "metadata": {},
   "source": [
    "After defining the flowfield environment with `FieldSet` and the particle information with `ParticleSet`, we can move on to actually running the parcels simulation by using [**`ParticleSet.execute()`**](https://oceanparcels.org/gh-pages/html/#parcels.particleset.ParticleSet.execute). Running a simulation in parcels actually means executing kernels, little snippets of code that are run for each particle at each timestep. The most basic kernels are advection kernels which calculate the movement of each particle based on the `FieldSet` in which the `ParticleSet` lives. A few different advection kernels are [included in Parcels](https://oceanparcels.org/gh-pages/html/#module-parcels.kernels.advection). \n",
    "\n",
    "If you want to store the particle data generated in the simulation, you usually first want to define the [**`ParticleFile`**](https://oceanparcels.org/gh-pages/html/#parcels.particlefile.ParticleFile) to which the output of the kernel execution will be written. Then, on the [`ParticleSet`](#ParticleSet) you have defined, you can use the method [**`ParticleSet.execute()`**](https://oceanparcels.org/gh-pages/html/#parcels.particleset.ParticleSet.execute) which requires the following arguments:\n",
    "1. The kernels to be executed.\n",
    "2. The `runtime` defining how long the execution loop runs. Alternatively, you may define the `endtime` at which the execution loop stops.\n",
    "3. The timestep `dt` at which to execute the kernels.\n",
    "4. (Optional) The `ParticleFile` object to write the output to."
   ]
  },
  {
   "cell_type": "code",
   "execution_count": 5,
   "metadata": {},
   "outputs": [
    {
     "name": "stderr",
     "output_type": "stream",
     "text": [
      "INFO: Compiled JITParticleAdvectionRK4 ==> C:\\Users\\GEBRUI~1\\AppData\\Local\\Temp\\parcels-tmp\\a23c56b16e735df652d3b3c4b045eabb_0.dll\n"
     ]
    }
   ],
   "source": [
    "output_file = pset.ParticleFile(name=\"GCParticles.nc\", outputdt=3600) # the file name and the time step of the outputs\n",
    "\n",
    "pset.execute(AdvectionRK4,                 # the kernel (which defines how particles move)\n",
    "             runtime=86400*6,              # the total length of the run in seconds\n",
    "             dt=300,                       # the timestep of the kernel\n",
    "             output_file=output_file)"
   ]
  },
  {
   "cell_type": "markdown",
   "metadata": {},
   "source": [
    "One of the most powerful features of Parcels is the ability to write custom Kernels (see e.g. [this example](http://nbviewer.jupyter.org/github/OceanParcels/parcels/blob/master/parcels/examples/tutorial_Argofloats.ipynb) to add the vertical movements of an Argo float). You probably want to define these kernels here; after defining your [`ParticleSet`](#ParticleSet) and before executing them. If your kernels become very large or complex, you might want to store them in another python file and import them into your simulation script."
   ]
  },
  {
   "cell_type": "code",
   "execution_count": 6,
   "metadata": {},
   "outputs": [
    {
     "name": "stderr",
     "output_type": "stream",
     "text": [
      "INFO: Compiled JITParticleAdvectionRK4WestVel ==> C:\\Users\\GEBRUI~1\\AppData\\Local\\Temp\\parcels-tmp\\2d3461f1f21e8976d23b053f3bf517e8_0.dll\n"
     ]
    }
   ],
   "source": [
    "def WestVel(particle, fieldset, time):\n",
    "    if time > 86400 and time < 2*86400:\n",
    "        uvel = -0.02\n",
    "        particle.lon += uvel * particle.dt\n",
    "        \n",
    "WV_kernel = pset.Kernel(WestVel)\n",
    "        \n",
    "output_file = pset.ParticleFile(name=\"GC_WestVel.nc\", outputdt=3600)\n",
    "\n",
    "pset.execute(AdvectionRK4 + WV_kernel,     # simply add kernels using the + operator\n",
    "             runtime=86400*6,              # the total length of the run in seconds\n",
    "             dt=300,                       # the timestep of the kernel\n",
    "             output_file=output_file)"
   ]
  },
  {
   "cell_type": "markdown",
   "metadata": {},
   "source": [
    "<a id=\"kernelrules\"></a>\n",
    "However, there are some key limitations to the Kernels that everyone who wants to write their own should be aware of:\n",
    "* Every Kernel must be a function with the following (and only those) arguments: `(particle, fieldset, time)`\n",
    "* In order to run successfully in JIT mode, Kernel definitions can only contain the following types of commands:\n",
    "    * Basic arithmetical operators (`+`, `-`, `*`, `/`, `**`) and assignments (`=`).\n",
    "    * Basic logical operators (`<`, `==`, `!=`, `>`, `&`, `|`). Note that you can use a statement like `particle.lon != particle.lon` to check if `particle.lon` is NaN (since `math.nan != math.nan`).\n",
    "    * `if` and `while` loops, as well as `break` statements. Note that `for`-loops are not supported in JIT mode.\n",
    "    * Interpolation of a `Field` from the `FieldSet` at a `[time, depth, lat, lon]` point, using square brackets notation.\n",
    "    For example, to interpolate the zonal velocity (U) field at the particle location, use the following statement:\n",
    "    `value = fieldset.U[time, particle.depth, particle.lat, particle.lon]`\n",
    "    * Functions from the `math` standard library and from the custom `ParcelsRandom` library at [`parcels.rng`](https://oceanparcels.org/gh-pages/html/#module-parcels.rng)\n",
    "    * Simple `print` statements, such as:\n",
    "        * `print(\"Some print\")`\n",
    "        * `print(particle.lon)`\n",
    "        * `print(\"particle id: %d\" % particle.id)`\n",
    "        * `print(\"lon: %f, lat: %f\" % (particle.lon, particle.lat))`\n",
    "    \n",
    "      Although note that these `print` statements are not shown in Jupyter notebooks in JIT mode, see [this long-standing Issue](https://github.com/OceanParcels/parcels/issues/369).\n",
    "    * Local variables can be used in Kernels, and these variables will be accessible in all concatenated Kernels. Note that these local variables are not shared between particles, and also not between time steps.\n",
    "    * Note that one has to be careful with writing kernels for vector fields on Curvilinear grids. While Parcels automatically rotates the U and V field when necessary, this is not the case for for example wind data. In that case, a custom rotation function will have to be written."
   ]
  },
  {
   "cell_type": "markdown",
   "metadata": {},
   "source": [
    "#### For more advanced tutorials on writing custom kernels that work on custom particles:\n",
    "* [Sample other fields like temperature](https://nbviewer.jupyter.org/github/OceanParcels/parcels/blob/master/parcels/examples/tutorial_sampling.ipynb).\n",
    "* [Mimic the behavior of ARGO floats](https://nbviewer.jupyter.org/github/OceanParcels/parcels/blob/master/parcels/examples/tutorial_Argofloats.ipynb).\n",
    "* [Adding diffusion to approximate subgrid-scale processes and unresolved physics](https://nbviewer.jupyter.org/github/OceanParcels/parcels/blob/master/parcels/examples/tutorial_diffusion.ipynb).\n",
    "* [Converting between units in m/s and degree/s](https://nbviewer.jupyter.org/github/OceanParcels/parcels/blob/master/parcels/examples/tutorial_unitconverters.ipynb)."
   ]
  },
  {
   "cell_type": "markdown",
   "metadata": {},
   "source": [
    "# 4. Output"
   ]
  },
  {
   "cell_type": "markdown",
   "metadata": {},
   "source": [
    "While executing the `ParticleSet`, parcels stores the data in **npy** files in an output folder. To take all the data and store them in a netcdf file, you can use [**`ParticleFile.export()`**](https://oceanparcels.org/gh-pages/html/#parcels.particlefile.ParticleFile.export) if you want to keep the folder with npy files; or [**`ParticleFile.close()`**](https://oceanparcels.org/gh-pages/html/#parcels.particlefile.ParticleFile.close) if you only want to keep the netcdf file:"
   ]
  },
  {
   "cell_type": "code",
   "execution_count": 7,
   "metadata": {},
   "outputs": [],
   "source": [
    "output_file.export()\n",
    "output_file.close()"
   ]
  },
  {
   "cell_type": "markdown",
   "metadata": {},
   "source": [
    "After running your simulation, you probably want to analyse the output. Although there is some simple plotting functionality built into Parcels, we **recommend you write your own code** to analyse your specific output and you can probably separate the analysis from the simulation. \n",
    "#### For more tutorials on the parcels output:\n",
    "* [How the output is structured and how to start your own analysis](https://nbviewer.jupyter.org/github/OceanParcels/parcels/blob/master/parcels/examples/tutorial_output.ipynb)"
   ]
  },
  {
   "cell_type": "code",
   "execution_count": null,
   "metadata": {},
   "outputs": [],
   "source": []
  }
 ],
 "metadata": {
  "celltoolbar": "Metagegevens bewerken",
  "kernelspec": {
   "display_name": "Python 3",
   "language": "python",
   "name": "python3"
  },
  "language_info": {
   "codemirror_mode": {
    "name": "ipython",
    "version": 3
   },
   "file_extension": ".py",
   "mimetype": "text/x-python",
   "name": "python",
   "nbconvert_exporter": "python",
   "pygments_lexer": "ipython3",
   "version": "3.6.11"
  }
 },
 "nbformat": 4,
 "nbformat_minor": 4
}
